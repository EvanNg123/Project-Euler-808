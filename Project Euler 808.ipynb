{
 "cells": [
  {
   "cell_type": "code",
   "execution_count": 11,
   "id": "0fd4c31a-16aa-4b4a-aed3-631e5fddf186",
   "metadata": {},
   "outputs": [
    {
     "name": "stdout",
     "output_type": "stream",
     "text": [
      "3807504276997394\n",
      "CPU times: user 4.52 s, sys: 274 ms, total: 4.8 s\n",
      "Wall time: 5.95 s\n"
     ]
    }
   ],
   "source": [
    "%%time\n",
    "# both 169 and 961 are the squares of a prime. 169 is the reverse of 961.\n",
    "# We call a number a reversible prime square if:\n",
    "# 1. It is not a palindrome, and\n",
    "# 2. It is the square of a prime, and\n",
    "# 3. Its reverse is also the square of a prime.\n",
    "# find the sum of the first 50 reversible prime squares\n",
    "\n",
    "import numpy as np\n",
    "\n",
    "#input: number of palindromes\n",
    "#output: sum of palindromes\n",
    "\n",
    "#STEPS\n",
    "# 1. find prime numbers using sieve of eratosthenes\n",
    "# 2. find square of prime number\n",
    "# 3. find palindrome of prime square\n",
    "# 4. check if it is a prime square\n",
    "# 5. if it is, add both prime squares into list\n",
    "\n",
    "\n",
    "# Prime sieve \n",
    "N = int(3.111*10**7) #We used 3.111 we brute forced the code with N being a very large number (this took forever),\n",
    "#but then we found the square root of the 50th reverse prime square which is about 3.11 * 10^6. \n",
    "#This reduces the number of numbers we have to check\n",
    "numbers = np.arange(N) #make array from 0 to 3.111*10^8\n",
    "numbers[0:2] = 0 #set first two numbers equal to zero because every number is divisible by 1 \n",
    "for i in range(2,int(np.sqrt(N)) + 1): #we only need to check at max the square root of the largest prime number\n",
    "   numbers[2*i::i] = 0 #copied code from discussion Tuesday Week 9 :), check every number and set its multiples \n",
    "#to zero (faster than with if/else statements)\n",
    "primeArr = numbers[numbers>0] #creates an array of just the prime numbers\n",
    "\n",
    "#find the square of the prime numbers\n",
    "sqrArr = primeArr**2\n",
    "#print(sqrArr)\n",
    "\n",
    "#find REVERSE of the square of the prime numbers\n",
    "palList = []\n",
    "for i in range(len(sqrArr)):\n",
    "    splice = str(sqrArr[i]) #turn an element in sqrArr into a string\n",
    "    splice = int(splice[::-1]) #reverse the string then turn back into integer (much faster than making a function)\n",
    "    sqrtSplice = splice**0.5 #square root each palindrome we found in the previous line\n",
    "    #check if square root of prime square is in primeArr AND removes duplicates\n",
    "    if sqrtSplice%1 == 0 and sqrtSplice in primeArr and sqrArr[i] != splice: #make sure that the square root results in an integer AND the square root is also a prime AND the square root does not equal itself\n",
    "        palList.append(sqrArr[i])\n",
    "\n",
    "finalSum = sum(palList[:50]) #find the sum\n",
    "print(finalSum)\n",
    "#about 6 seconds"
   ]
  },
  {
   "cell_type": "code",
   "execution_count": 12,
   "id": "18b50b48-daea-4154-8019-d8b5bdf3bae2",
   "metadata": {},
   "outputs": [],
   "source": [
    "#Citations:\n",
    "#https://github.com/lucky-bai/projecteuler-solutions/blob/master/Solutions.md \n",
    "# to check solutions\n",
    "#https://en.wikipedia.org/wiki/Sieve_of_Eratosthenes\n",
    "# method to find primes"
   ]
  },
  {
   "cell_type": "code",
   "execution_count": 13,
   "id": "ba7d8ed5-baac-47c3-be1f-07fe62ce5603",
   "metadata": {},
   "outputs": [
    {
     "name": "stdout",
     "output_type": "stream",
     "text": [
      "3807504276997394\n",
      "CPU times: user 13.9 s, sys: 204 ms, total: 14.1 s\n",
      "Wall time: 14.9 s\n"
     ]
    }
   ],
   "source": [
    "%%time\n",
    "#DRAFT\n",
    "#Prime sieve\n",
    "import numpy as np\n",
    "N = int(3.111*10**7) #We used 3.111 we brute forced the code with N being a very large number (this took forever), but then we found the square root of the 50th reverse prime square which is about 3.11 * 10^6. This reduces the number of numbers we have to check\n",
    "numbers = np.arange(N) #make array from 0 to 3.111*10^8\n",
    "numbers[0:2] = 0 #set first two numbers equal to zero because every number is divisible by 1 \n",
    "for i in range(2,int(np.sqrt(N)) + 1): #we only need to check at max the square root of the largest prime number\n",
    "    if numbers[i] == 0:\n",
    "        numbers[i::i] = 0 #sets all multiples of i equal to zero if i is already zero\n",
    "    else:\n",
    "        numbers[2*i::i] = 0 #sets all multiples of i equal to zero but keeps i if it is not already zero\n",
    "primeArr = numbers[numbers>0] #creates an array of just the prime numbers\n",
    "\n",
    "#find the square of the prime numbers\n",
    "sqrArr = primeArr**2\n",
    "#print(sqrArr)\n",
    "\n",
    "def pal(x):\n",
    "    y = 0\n",
    "    while x != 0: #while x is not equal to zero\n",
    "        y = y * 10 #once the loop restarts, we multiply by 10 to move the ones digit of x to the first digit of y\n",
    "        y = y + x%10 #get the ones digit of x by finding its remainder using mod 10\n",
    "        x = int(x/10) #divide x by 10 and get the new integer value to call its next digit\n",
    "    return y\n",
    "\n",
    "#find REVERSE of the square of the prime numbers\n",
    "palList = []\n",
    "for i in range(len(sqrArr)):\n",
    "    P = pal(sqrArr[i]) #set P equal to the palindrome of each prime squared\n",
    "    sqrtP = P**0.5 #square root each palindrome we found in the previous line\n",
    "    #check if square root of prime square is in primeArr AND removes duplicates\n",
    "    if sqrtP%1 == 0 and sqrtP in primeArr and sqrArr[i] != P: #make sure that the square root results in an integer AND the square root is also a prime AND the square root does not equal itself\n",
    "        palList.append(sqrArr[i])\n",
    "\n",
    "finalSum = sum(palList[:50]) #find the sum\n",
    "print(finalSum)\n",
    "#about 15 seconds"
   ]
  }
 ],
 "metadata": {
  "kernelspec": {
   "display_name": "Python [conda env:base] *",
   "language": "python",
   "name": "conda-base-py"
  },
  "language_info": {
   "codemirror_mode": {
    "name": "ipython",
    "version": 3
   },
   "file_extension": ".py",
   "mimetype": "text/x-python",
   "name": "python",
   "nbconvert_exporter": "python",
   "pygments_lexer": "ipython3",
   "version": "3.12.7"
  }
 },
 "nbformat": 4,
 "nbformat_minor": 5
}
